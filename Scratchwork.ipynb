{
 "cells": [
  {
   "cell_type": "code",
   "execution_count": null,
   "metadata": {},
   "outputs": [],
   "source": [
    "A = \n",
    "B = A+4\n",
    "C = 2.5A\n",
    "\n",
    "A+B + 6 = C\n",
    "2A + 10 = C\n",
    "\n",
    "2A + 10 = 2.5A\n",
    "10 = 0.5 A\n",
    "\n",
    "A = 20\n",
    "C = \n",
    "\n",
    "5C + 16 = C"
   ]
  },
  {
   "cell_type": "code",
   "execution_count": 144,
   "metadata": {},
   "outputs": [],
   "source": [
    "import numpy as np\n",
    "import matplotlib \n",
    "import matplotlib.pyplot as plt"
   ]
  },
  {
   "cell_type": "code",
   "execution_count": 145,
   "metadata": {},
   "outputs": [],
   "source": [
    "import pandas as pd"
   ]
  },
  {
   "cell_type": "code",
   "execution_count": 146,
   "metadata": {},
   "outputs": [],
   "source": [
    "survey = pd.read_csv(\"/Users/elliott.botwick@ibm.com/Documents/Udacity/Data Sets/survey-results-public.csv\")"
   ]
  },
  {
   "cell_type": "code",
   "execution_count": 147,
   "metadata": {},
   "outputs": [
    {
     "data": {
      "text/plain": [
       "With a hard \"g,\" like \"gift\"              33484\n",
       "With a soft \"g,\" like \"jiff\"              13408\n",
       "Enunciating each letter: \"gee eye eff\"     3085\n",
       "Some other way                             1031\n",
       "Name: PronounceGIF, dtype: int64"
      ]
     },
     "execution_count": 147,
     "metadata": {},
     "output_type": "execute_result"
    }
   ],
   "source": [
    "survey.PronounceGIF.value_counts()"
   ]
  },
  {
   "cell_type": "code",
   "execution_count": 148,
   "metadata": {},
   "outputs": [],
   "source": [
    "import numpy as np"
   ]
  },
  {
   "cell_type": "code",
   "execution_count": 149,
   "metadata": {},
   "outputs": [
    {
     "name": "stdout",
     "output_type": "stream",
     "text": [
      "With a hard \"g,\" like \"gift\" :  65.15 %\n",
      "With a soft \"g,\" like \"jiff\" :  26.09 %\n",
      "Enunciating each letter: \"gee eye eff\" :  6.0 %\n",
      "Some other way :  2.01 %\n"
     ]
    },
    {
     "data": {
      "text/plain": [
       "[None, None, None, None]"
      ]
     },
     "execution_count": 149,
     "metadata": {},
     "output_type": "execute_result"
    }
   ],
   "source": [
    "[print(survey.PronounceGIF.value_counts(). index[value], \": \", np.around(survey.PronounceGIF.value_counts().values[value]/len(survey)*100, 2), \"%\") for value in range(len(survey.PronounceGIF.value_counts().values))]"
   ]
  },
  {
   "cell_type": "code",
   "execution_count": 150,
   "metadata": {},
   "outputs": [],
   "source": [
    "weirdAnswer = \"\"\"Enunciating each letter: \"gee eye eff\" \"\"\""
   ]
  },
  {
   "cell_type": "code",
   "execution_count": 151,
   "metadata": {},
   "outputs": [
    {
     "data": {
      "text/plain": [
       "'Enunciating each letter: \"gee eye eff\"'"
      ]
     },
     "execution_count": 151,
     "metadata": {},
     "output_type": "execute_result"
    }
   ],
   "source": [
    "weirdAnswer.strip()"
   ]
  },
  {
   "cell_type": "code",
   "execution_count": 152,
   "metadata": {},
   "outputs": [],
   "source": [
    "weird = survey[survey.PronounceGIF==weirdAnswer.strip()]"
   ]
  },
  {
   "cell_type": "code",
   "execution_count": 153,
   "metadata": {},
   "outputs": [],
   "source": [
    "weird_wGender = weird[weird.Gender.notnull()]\n",
    "GenderedSurvey = survey[survey.Gender.notnull()]"
   ]
  },
  {
   "cell_type": "code",
   "execution_count": 154,
   "metadata": {},
   "outputs": [
    {
     "data": {
      "text/plain": [
       "(3085, 154)"
      ]
     },
     "execution_count": 154,
     "metadata": {},
     "output_type": "execute_result"
    }
   ],
   "source": [
    "weird.shape"
   ]
  },
  {
   "cell_type": "code",
   "execution_count": 155,
   "metadata": {},
   "outputs": [
    {
     "data": {
      "text/plain": [
       "(1623, 154)"
      ]
     },
     "execution_count": 155,
     "metadata": {},
     "output_type": "execute_result"
    }
   ],
   "source": [
    "weird_wGender.shape"
   ]
  },
  {
   "cell_type": "code",
   "execution_count": 156,
   "metadata": {},
   "outputs": [
    {
     "data": {
      "text/plain": [
       "Male                                                       31589\n",
       "Female                                                      2600\n",
       "Other                                                        225\n",
       "Male; Other                                                  171\n",
       "Gender non-conforming                                        160\n",
       "Male; Gender non-conforming                                   65\n",
       "Female; Transgender                                           56\n",
       "Transgender                                                   55\n",
       "Female; Gender non-conforming                                 29\n",
       "Male; Female                                                  15\n",
       "Male; Female; Transgender; Gender non-conforming; Other       15\n",
       "Transgender; Gender non-conforming                            15\n",
       "Male; Transgender                                             11\n",
       "Female; Transgender; Gender non-conforming                     8\n",
       "Male; Female; Transgender; Gender non-conforming               7\n",
       "Male; Female; Transgender                                      4\n",
       "Gender non-conforming; Other                                   4\n",
       "Male; Transgender; Gender non-conforming                       4\n",
       "Male; Gender non-conforming; Other                             3\n",
       "Male; Female; Other                                            2\n",
       "Female; Transgender; Gender non-conforming; Other              1\n",
       "Female; Transgender; Other                                     1\n",
       "Female; Other                                                  1\n",
       "Female; Gender non-conforming; Other                           1\n",
       "Transgender; Other                                             1\n",
       "Male; Female; Gender non-conforming; Other                     1\n",
       "Male; Female; Gender non-conforming                            1\n",
       "Male; Transgender; Other                                       1\n",
       "Male; Female; Transgender; Other                               1\n",
       "Name: Gender, dtype: int64"
      ]
     },
     "execution_count": 156,
     "metadata": {},
     "output_type": "execute_result"
    }
   ],
   "source": [
    "survey.Gender.value_counts()"
   ]
  },
  {
   "cell_type": "code",
   "execution_count": 157,
   "metadata": {},
   "outputs": [
    {
     "data": {
      "text/plain": [
       "35047"
      ]
     },
     "execution_count": 157,
     "metadata": {},
     "output_type": "execute_result"
    }
   ],
   "source": [
    "survey.shape[0]- survey.Gender.isnull().sum()"
   ]
  },
  {
   "cell_type": "code",
   "execution_count": 158,
   "metadata": {},
   "outputs": [
    {
     "data": {
      "text/plain": [
       "35047"
      ]
     },
     "execution_count": 158,
     "metadata": {},
     "output_type": "execute_result"
    }
   ],
   "source": [
    "survey.Gender.value_counts().values.sum() "
   ]
  },
  {
   "cell_type": "code",
   "execution_count": 159,
   "metadata": {},
   "outputs": [
    {
     "name": "stdout",
     "output_type": "stream",
     "text": [
      "Male :  90.13 %\n",
      "Female :  7.42 %\n",
      "Other :  0.64 %\n",
      "Male; Other :  0.49 %\n",
      "Gender non-conforming :  0.46 %\n",
      "Male; Gender non-conforming :  0.19 %\n",
      "Female; Transgender :  0.16 %\n",
      "Transgender :  0.16 %\n",
      "Female; Gender non-conforming :  0.08 %\n",
      "Transgender; Gender non-conforming :  0.04 %\n",
      "Male; Female :  0.04 %\n",
      "Male; Female; Transgender; Gender non-conforming; Other :  0.04 %\n",
      "Male; Transgender :  0.03 %\n",
      "Female; Transgender; Gender non-conforming :  0.02 %\n",
      "Male; Female; Transgender; Gender non-conforming :  0.02 %\n",
      "Male; Transgender; Gender non-conforming :  0.01 %\n",
      "Gender non-conforming; Other :  0.01 %\n",
      "Male; Female; Transgender :  0.01 %\n",
      "Male; Gender non-conforming; Other :  0.01 %\n",
      "Male; Female; Other :  0.01 %\n",
      "Male; Female; Transgender; Other :  0.0 %\n",
      "Female; Transgender; Other :  0.0 %\n",
      "Female; Gender non-conforming; Other :  0.0 %\n",
      "Female; Other :  0.0 %\n",
      "Male; Female; Gender non-conforming :  0.0 %\n",
      "Male; Transgender; Other :  0.0 %\n",
      "Male; Female; Gender non-conforming; Other :  0.0 %\n",
      "Female; Transgender; Gender non-conforming; Other :  0.0 %\n",
      "Transgender; Other :  0.0 %\n"
     ]
    },
    {
     "data": {
      "text/plain": [
       "[None,\n",
       " None,\n",
       " None,\n",
       " None,\n",
       " None,\n",
       " None,\n",
       " None,\n",
       " None,\n",
       " None,\n",
       " None,\n",
       " None,\n",
       " None,\n",
       " None,\n",
       " None,\n",
       " None,\n",
       " None,\n",
       " None,\n",
       " None,\n",
       " None,\n",
       " None,\n",
       " None,\n",
       " None,\n",
       " None,\n",
       " None,\n",
       " None,\n",
       " None,\n",
       " None,\n",
       " None,\n",
       " None]"
      ]
     },
     "execution_count": 159,
     "metadata": {},
     "output_type": "execute_result"
    }
   ],
   "source": [
    "[print (GenderedSurvey.Gender.value_counts(). index[value], \": \", np.around(GenderedSurvey.Gender.value_counts().values[value]/len(GenderedSurvey)*100, 2), \"%\") for value in range(len(GenderedSurvey.Gender.value_counts().values))]"
   ]
  },
  {
   "cell_type": "code",
   "execution_count": 160,
   "metadata": {},
   "outputs": [
    {
     "name": "stdout",
     "output_type": "stream",
     "text": [
      "Male :  89.16 %\n",
      "Female :  9.06 %\n",
      "Gender non-conforming :  0.49 %\n",
      "Male; Other :  0.37 %\n",
      "Other :  0.31 %\n",
      "Male; Gender non-conforming :  0.25 %\n",
      "Female; Transgender :  0.12 %\n",
      "Male; Female; Transgender :  0.06 %\n",
      "Male; Female :  0.06 %\n",
      "Transgender :  0.06 %\n",
      "Male; Female; Transgender; Gender non-conforming :  0.06 %\n"
     ]
    },
    {
     "data": {
      "text/plain": [
       "[None, None, None, None, None, None, None, None, None, None, None]"
      ]
     },
     "execution_count": 160,
     "metadata": {},
     "output_type": "execute_result"
    }
   ],
   "source": [
    "[print (Genderedfreaks.Gender.value_counts().index[value], \": \", np.around(Genderedfreaks.Gender.value_counts().values[value]/len(Genderedfreaks)*100, 2), \"%\") for value in range(len(Genderedfreaks.Gender.value_counts().values))]\n"
   ]
  },
  {
   "cell_type": "code",
   "execution_count": 162,
   "metadata": {},
   "outputs": [
    {
     "data": {
      "text/plain": [
       "16345"
      ]
     },
     "execution_count": 162,
     "metadata": {},
     "output_type": "execute_result"
    }
   ],
   "source": [
    "survey.Gender.isna().sum()"
   ]
  },
  {
   "cell_type": "code",
   "execution_count": 163,
   "metadata": {},
   "outputs": [
    {
     "data": {
      "text/plain": [
       "0    Professional developer\n",
       "dtype: object"
      ]
     },
     "execution_count": 163,
     "metadata": {},
     "output_type": "execute_result"
    }
   ],
   "source": [
    "survey.Professional.mode()"
   ]
  },
  {
   "cell_type": "code",
   "execution_count": 164,
   "metadata": {},
   "outputs": [],
   "source": [
    "survey_imputed = survey[['Gender', 'CompanySize']].apply(lambda col: col.fillna(col.mode()[0]))"
   ]
  },
  {
   "cell_type": "code",
   "execution_count": 165,
   "metadata": {},
   "outputs": [
    {
     "name": "stdout",
     "output_type": "stream",
     "text": [
      "Male\n",
      "20 to 99 employees\n"
     ]
    },
    {
     "data": {
      "text/plain": [
       "Gender         None\n",
       "CompanySize    None\n",
       "dtype: object"
      ]
     },
     "execution_count": 165,
     "metadata": {},
     "output_type": "execute_result"
    }
   ],
   "source": [
    "survey[['Gender', 'CompanySize']].apply(lambda col: print(col.mode()[0]))"
   ]
  },
  {
   "cell_type": "code",
   "execution_count": 166,
   "metadata": {},
   "outputs": [
    {
     "data": {
      "text/html": [
       "<div>\n",
       "<style scoped>\n",
       "    .dataframe tbody tr th:only-of-type {\n",
       "        vertical-align: middle;\n",
       "    }\n",
       "\n",
       "    .dataframe tbody tr th {\n",
       "        vertical-align: top;\n",
       "    }\n",
       "\n",
       "    .dataframe thead th {\n",
       "        text-align: right;\n",
       "    }\n",
       "</style>\n",
       "<table border=\"1\" class=\"dataframe\">\n",
       "  <thead>\n",
       "    <tr style=\"text-align: right;\">\n",
       "      <th></th>\n",
       "      <th>Gender</th>\n",
       "      <th>Professional</th>\n",
       "    </tr>\n",
       "  </thead>\n",
       "  <tbody>\n",
       "    <tr>\n",
       "      <th>0</th>\n",
       "      <td>Male</td>\n",
       "      <td>Professional developer</td>\n",
       "    </tr>\n",
       "  </tbody>\n",
       "</table>\n",
       "</div>"
      ],
      "text/plain": [
       "  Gender            Professional\n",
       "0   Male  Professional developer"
      ]
     },
     "execution_count": 166,
     "metadata": {},
     "output_type": "execute_result"
    }
   ],
   "source": [
    "survey[['Gender', 'Professional']].apply(lambda col: col.mode())"
   ]
  },
  {
   "cell_type": "code",
   "execution_count": 167,
   "metadata": {},
   "outputs": [
    {
     "data": {
      "text/plain": [
       "0    20 to 99 employees\n",
       "dtype: object"
      ]
     },
     "execution_count": 167,
     "metadata": {},
     "output_type": "execute_result"
    }
   ],
   "source": [
    "survey.CompanySize.mode()"
   ]
  },
  {
   "cell_type": "code",
   "execution_count": 168,
   "metadata": {},
   "outputs": [
    {
     "data": {
      "text/html": [
       "<div>\n",
       "<style scoped>\n",
       "    .dataframe tbody tr th:only-of-type {\n",
       "        vertical-align: middle;\n",
       "    }\n",
       "\n",
       "    .dataframe tbody tr th {\n",
       "        vertical-align: top;\n",
       "    }\n",
       "\n",
       "    .dataframe thead th {\n",
       "        text-align: right;\n",
       "    }\n",
       "</style>\n",
       "<table border=\"1\" class=\"dataframe\">\n",
       "  <thead>\n",
       "    <tr style=\"text-align: right;\">\n",
       "      <th></th>\n",
       "      <th>Gender</th>\n",
       "      <th>CompanySize</th>\n",
       "    </tr>\n",
       "  </thead>\n",
       "  <tbody>\n",
       "    <tr>\n",
       "      <th>0</th>\n",
       "      <td>Male</td>\n",
       "      <td>20 to 99 employees</td>\n",
       "    </tr>\n",
       "    <tr>\n",
       "      <th>1</th>\n",
       "      <td>Male</td>\n",
       "      <td>20 to 99 employees</td>\n",
       "    </tr>\n",
       "    <tr>\n",
       "      <th>2</th>\n",
       "      <td>Male</td>\n",
       "      <td>10,000 or more employees</td>\n",
       "    </tr>\n",
       "    <tr>\n",
       "      <th>3</th>\n",
       "      <td>Male</td>\n",
       "      <td>10,000 or more employees</td>\n",
       "    </tr>\n",
       "    <tr>\n",
       "      <th>4</th>\n",
       "      <td>Male</td>\n",
       "      <td>10 to 19 employees</td>\n",
       "    </tr>\n",
       "    <tr>\n",
       "      <th>5</th>\n",
       "      <td>Male</td>\n",
       "      <td>20 to 99 employees</td>\n",
       "    </tr>\n",
       "    <tr>\n",
       "      <th>6</th>\n",
       "      <td>Male</td>\n",
       "      <td>20 to 99 employees</td>\n",
       "    </tr>\n",
       "    <tr>\n",
       "      <th>7</th>\n",
       "      <td>Male</td>\n",
       "      <td>Fewer than 10 employees</td>\n",
       "    </tr>\n",
       "    <tr>\n",
       "      <th>8</th>\n",
       "      <td>Male</td>\n",
       "      <td>5,000 to 9,999 employees</td>\n",
       "    </tr>\n",
       "    <tr>\n",
       "      <th>9</th>\n",
       "      <td>Male</td>\n",
       "      <td>20 to 99 employees</td>\n",
       "    </tr>\n",
       "    <tr>\n",
       "      <th>10</th>\n",
       "      <td>Female</td>\n",
       "      <td>100 to 499 employees</td>\n",
       "    </tr>\n",
       "    <tr>\n",
       "      <th>11</th>\n",
       "      <td>Male</td>\n",
       "      <td>100 to 499 employees</td>\n",
       "    </tr>\n",
       "    <tr>\n",
       "      <th>12</th>\n",
       "      <td>Male</td>\n",
       "      <td>20 to 99 employees</td>\n",
       "    </tr>\n",
       "    <tr>\n",
       "      <th>13</th>\n",
       "      <td>Female</td>\n",
       "      <td>Fewer than 10 employees</td>\n",
       "    </tr>\n",
       "    <tr>\n",
       "      <th>14</th>\n",
       "      <td>Male</td>\n",
       "      <td>5,000 to 9,999 employees</td>\n",
       "    </tr>\n",
       "    <tr>\n",
       "      <th>15</th>\n",
       "      <td>Male</td>\n",
       "      <td>20 to 99 employees</td>\n",
       "    </tr>\n",
       "    <tr>\n",
       "      <th>16</th>\n",
       "      <td>Male</td>\n",
       "      <td>20 to 99 employees</td>\n",
       "    </tr>\n",
       "    <tr>\n",
       "      <th>17</th>\n",
       "      <td>Male</td>\n",
       "      <td>1,000 to 4,999 employees</td>\n",
       "    </tr>\n",
       "    <tr>\n",
       "      <th>18</th>\n",
       "      <td>Male</td>\n",
       "      <td>10,000 or more employees</td>\n",
       "    </tr>\n",
       "    <tr>\n",
       "      <th>19</th>\n",
       "      <td>Male</td>\n",
       "      <td>Fewer than 10 employees</td>\n",
       "    </tr>\n",
       "  </tbody>\n",
       "</table>\n",
       "</div>"
      ],
      "text/plain": [
       "    Gender               CompanySize\n",
       "0     Male        20 to 99 employees\n",
       "1     Male        20 to 99 employees\n",
       "2     Male  10,000 or more employees\n",
       "3     Male  10,000 or more employees\n",
       "4     Male        10 to 19 employees\n",
       "5     Male        20 to 99 employees\n",
       "6     Male        20 to 99 employees\n",
       "7     Male   Fewer than 10 employees\n",
       "8     Male  5,000 to 9,999 employees\n",
       "9     Male        20 to 99 employees\n",
       "10  Female      100 to 499 employees\n",
       "11    Male      100 to 499 employees\n",
       "12    Male        20 to 99 employees\n",
       "13  Female   Fewer than 10 employees\n",
       "14    Male  5,000 to 9,999 employees\n",
       "15    Male        20 to 99 employees\n",
       "16    Male        20 to 99 employees\n",
       "17    Male  1,000 to 4,999 employees\n",
       "18    Male  10,000 or more employees\n",
       "19    Male   Fewer than 10 employees"
      ]
     },
     "execution_count": 168,
     "metadata": {},
     "output_type": "execute_result"
    }
   ],
   "source": [
    "survey_imputed.head(20)"
   ]
  }
 ],
 "metadata": {
  "kernelspec": {
   "display_name": "Python 3",
   "language": "python",
   "name": "python3"
  },
  "language_info": {
   "codemirror_mode": {
    "name": "ipython",
    "version": 3
   },
   "file_extension": ".py",
   "mimetype": "text/x-python",
   "name": "python",
   "nbconvert_exporter": "python",
   "pygments_lexer": "ipython3",
   "version": "3.7.4"
  }
 },
 "nbformat": 4,
 "nbformat_minor": 4
}
